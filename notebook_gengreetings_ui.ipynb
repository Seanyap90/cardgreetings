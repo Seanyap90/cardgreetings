{
  "cells": [
    {
      "cell_type": "markdown",
      "source": [
        "#**Greetings Generator**"
      ],
      "metadata": {
        "id": "QjtRV5bUoTI2"
      }
    },
    {
      "cell_type": "markdown",
      "source": [
        "## General Setup and Installation"
      ],
      "metadata": {
        "id": "tSNBiu8SoutM"
      }
    },
    {
      "cell_type": "markdown",
      "source": [
        "When you first load the notebook or do a factory reset of the runtime, you will need to install cuda-drivers, python packages and cloudflare"
      ],
      "metadata": {
        "id": "2pi9niTWp13X"
      }
    },
    {
      "cell_type": "code",
      "execution_count": null,
      "metadata": {
        "id": "piwij33g7x3I"
      },
      "outputs": [],
      "source": [
        "!sudo apt-get update && sudo apt-get install -y cuda-drivers"
      ]
    },
    {
      "cell_type": "code",
      "source": [
        "!wget https://github.com/cloudflare/cloudflared/releases/latest/download/cloudflared-linux-amd64"
      ],
      "metadata": {
        "id": "Kx9mqOAD5J8G"
      },
      "execution_count": null,
      "outputs": []
    },
    {
      "cell_type": "code",
      "execution_count": null,
      "metadata": {
        "id": "l7twTZ_qBa0n"
      },
      "outputs": [],
      "source": [
        "!pip install -U pillow==9.4.0\n",
        "!pip install opencv-python-headless\n",
        "!pip install numpy\n",
        "!pip install pandas\n",
        "!pip install streamlit"
      ]
    },
    {
      "cell_type": "markdown",
      "source": [
        "When you restart runtime rather than complete reset, you need to run the below cell to re-download and install ollama again"
      ],
      "metadata": {
        "id": "TUbnsvIWpaNp"
      }
    },
    {
      "cell_type": "code",
      "execution_count": null,
      "metadata": {
        "id": "mY7BfBLI5TKP"
      },
      "outputs": [],
      "source": [
        "!curl https://ollama.ai/install.sh | sh"
      ]
    },
    {
      "cell_type": "markdown",
      "source": [
        "## Ollama Server Setup"
      ],
      "metadata": {
        "id": "rUO-InBopmt5"
      }
    },
    {
      "cell_type": "markdown",
      "source": [
        "Everytime runtime is restarted, you need to start ollama server"
      ],
      "metadata": {
        "id": "RI-DC6kqsTjX"
      }
    },
    {
      "cell_type": "markdown",
      "source": [
        "### Setup parallel thread for ollama server to run in the background"
      ],
      "metadata": {
        "id": "njtP9cJNrQ1t"
      }
    },
    {
      "cell_type": "code",
      "execution_count": 5,
      "metadata": {
        "id": "Xi-NM7pl70Ht"
      },
      "outputs": [],
      "source": [
        "import os\n",
        "\n",
        "os.environ['PATH'] += ':/usr/local/cuda/bin'\n",
        "os.environ['LD_LIBRARY_PATH'] = '/usr/lib64-nvidia:/usr/local/cuda/lib64'"
      ]
    },
    {
      "cell_type": "code",
      "execution_count": 6,
      "metadata": {
        "id": "4QD5IBzEjOjM"
      },
      "outputs": [],
      "source": [
        "import os\n",
        "import asyncio\n",
        "\n",
        "async def run_process(cmd):\n",
        "    print('>>> starting', *cmd)\n",
        "    process = await asyncio.create_subprocess_exec(\n",
        "        *cmd,\n",
        "        stdout=asyncio.subprocess.PIPE,\n",
        "        stderr=asyncio.subprocess.PIPE\n",
        "    )\n",
        "\n",
        "    # define an async pipe function\n",
        "    async def pipe(lines):\n",
        "        async for line in lines:\n",
        "            print(line.decode().strip())\n",
        "\n",
        "        await asyncio.gather(\n",
        "            pipe(process.stdout),\n",
        "            pipe(process.stderr),\n",
        "        )\n",
        "\n",
        "    # call it\n",
        "    await asyncio.gather(pipe(process.stdout), pipe(process.stderr))"
      ]
    },
    {
      "cell_type": "code",
      "execution_count": null,
      "metadata": {
        "id": "PfI3kJLM8AIS"
      },
      "outputs": [],
      "source": [
        "import asyncio\n",
        "import threading\n",
        "\n",
        "async def start_ollama_serve():\n",
        "    await run_process(['ollama', 'serve'])\n",
        "\n",
        "def run_async_in_thread(loop, coro):\n",
        "    asyncio.set_event_loop(loop)\n",
        "    loop.run_until_complete(coro)\n",
        "    loop.close()\n",
        "\n",
        "# Create a new event loop that will run in a new thread\n",
        "new_loop = asyncio.new_event_loop()\n",
        "\n",
        "# Start ollama serve in a separate thread so the cell won't block execution\n",
        "thread = threading.Thread(target=run_async_in_thread, args=(new_loop, start_ollama_serve()))\n",
        "thread.start()"
      ]
    },
    {
      "cell_type": "markdown",
      "source": [
        "### Setup LLM model and system prompt"
      ],
      "metadata": {
        "id": "9MzqnBhPq3I1"
      }
    },
    {
      "cell_type": "code",
      "execution_count": null,
      "metadata": {
        "id": "M6FYrOFu8C-Q"
      },
      "outputs": [],
      "source": [
        "!ollama create test -f /content/Modelfile"
      ]
    },
    {
      "cell_type": "markdown",
      "source": [
        "### Setup Cloudflare for ollama server"
      ],
      "metadata": {
        "id": "SJ3tcVPqrh9T"
      }
    },
    {
      "cell_type": "markdown",
      "source": [
        "Everytime you restart runtime, you will need to setup cloudflare"
      ],
      "metadata": {
        "id": "qo85BCWpsLDM"
      }
    },
    {
      "cell_type": "code",
      "source": [
        "!chmod +x cloudflared-linux-amd64\n",
        "!nohup /content/cloudflared-linux-amd64 tunnel --url http://localhost:8501 &"
      ],
      "metadata": {
        "id": "_JX3krX75Pi7"
      },
      "execution_count": null,
      "outputs": []
    },
    {
      "cell_type": "code",
      "source": [
        "!grep -o 'https://.*\\.trycloudflare.com' nohup.out | head -n 1 | xargs -I {} echo \"Your tunnel url {}\""
      ],
      "metadata": {
        "id": "jD5iW5pd5TzS"
      },
      "execution_count": null,
      "outputs": []
    },
    {
      "cell_type": "markdown",
      "source": [
        "You will use this url to access the UI as well"
      ],
      "metadata": {
        "id": "sQNjk0tkrvHH"
      }
    },
    {
      "cell_type": "markdown",
      "source": [
        "## Streamlit Setup for UI"
      ],
      "metadata": {
        "id": "2zY5M5_0r8gv"
      }
    },
    {
      "cell_type": "code",
      "execution_count": null,
      "metadata": {
        "id": "DQhiME2ORyg9"
      },
      "outputs": [],
      "source": [
        "%%writefile interface.py\n",
        "from io import BytesIO\n",
        "from PIL import Image\n",
        "import base64\n",
        "import streamlit as st\n",
        "import time\n",
        "from text2img import process_images_and_serialize\n",
        "from api import generate\n",
        "import pandas as pd\n",
        "\n",
        "greetings = []\n",
        "\n",
        "st.set_page_config(layout=\"wide\")\n",
        "\n",
        "page_bg_img = \"\"\"\n",
        "<style>\n",
        "[data-testid=\"stAppViewContainer\"]{\n",
        "  background-image: url(\"https://static.vecteezy.com/system/resources/previews/035/320/302/original/2024-dragon-symbol-of-chinese-new-year-free-png.png\")\n",
        "}\n",
        "</style>\n",
        "\"\"\"\n",
        "\n",
        "st.markdown(page_bg_img, unsafe_allow_html=True)\n",
        "\n",
        "st.title('Generate CNY Greetings')\n",
        "\n",
        "upload_option = st.radio(\"Choose data input method:\", [\"Manual Entry\", \"CSV Upload\"])\n",
        "\n",
        "text_greet, card = st.tabs([\"Generate Greeting\", \"Generate Card\"])\n",
        "\n",
        "def enable():\n",
        "    st.session_state.running = True\n",
        "\n",
        "with text_greet:\n",
        "    if 'generate_button' in st.session_state and st.session_state.generate_button == True:\n",
        "        st.session_state.running = True\n",
        "    else:\n",
        "        st.session_state.running = False\n",
        "\n",
        "    if 'reset_button' in st.session_state and st.session_state.reset_button == True:\n",
        "        st.session_state.running1 = False\n",
        "        st.session_state.reset_button = False\n",
        "    else:\n",
        "        st.session_state.running1 = True\n",
        "\n",
        "    if upload_option == \"CSV Upload\":\n",
        "        uploaded_file = st.file_uploader(\"Upload CSV file\", type=[\"csv\"])\n",
        "\n",
        "        if uploaded_file is not None:\n",
        "            df = pd.read_csv(uploaded_file)\n",
        "            st.session_state.num_rows = len(df)\n",
        "\n",
        "            # Create input fields based on the number of rows in the CSV\n",
        "            for row in range(st.session_state.num_rows):\n",
        "                st.session_state[f'Name{str(row+1)}'] = df.iloc[row].get('Name', '')\n",
        "                st.session_state[f'Content{str(row+1)}'] = df.iloc[row].get('Content', '')\n",
        "                st.session_state[f'Style{str(row+1)}'] = df.iloc[row].get('Style', '')\n",
        "                st.session_state[f'Greetings_out{row+1}'] = ''\n",
        "                st.session_state[f'Greetings{row+1}_image1'] = ''\n",
        "                st.session_state[f'Greetings{row+1}_image2'] = ''\n",
        "\n",
        "                row_container = st.empty()\n",
        "                grid = row_container.columns(3)\n",
        "                # Columns to lay out the inputs\n",
        "                with grid[0]:\n",
        "                    st.text_input(f'Name {row+1}', value = st.session_state[f'Name{str(row+1)}'], key=f'input_col1{row}')\n",
        "                with grid[1]:\n",
        "                    st.text_input(f'Content {row+1}',value = st.session_state[f'Content{str(row+1)}'] , key=f'input_col2{row}')\n",
        "                with grid[2]:\n",
        "                    st.text_input(f'Style {row+1}',value = st.session_state[f'Style{str(row+1)}'] , key=f'input_col3{row}')\n",
        "\n",
        "            generated_rows = [f'row {r+1}' for r in range(st.session_state.num_rows)]\n",
        "    else:\n",
        "        # Button to add a row\n",
        "        if st.button('Add Row'):\n",
        "            st.session_state.num_rows += 1\n",
        "\n",
        "        if \"num_rows\" not in st.session_state:\n",
        "            st.session_state.num_rows = 1\n",
        "\n",
        "        # Retrieve the number of rows from session state (default to 1 if not yet initialized)\n",
        "        num_rows = st.session_state.get('num_rows', 1)\n",
        "\n",
        "        for row in range(st.session_state.num_rows):\n",
        "            st.session_state[f'Name{str(row+1)}'] = ''\n",
        "            st.session_state[f'Content{str(row+1)}'] = ''\n",
        "            st.session_state[f'Style{str(row+1)}'] = ''\n",
        "            st.session_state[f'Greetings_out{row+1}'] = ''\n",
        "            st.session_state[f'Greetings{row+1}_image1'] = ''\n",
        "            st.session_state[f'Greetings{row+1}_image2'] = ''\n",
        "\n",
        "        def add_row(row):\n",
        "            row_container = st.empty()\n",
        "            grid = row_container.columns(3)\n",
        "            # Columns to lay out the inputs\n",
        "            with grid[0]:\n",
        "                st.session_state[f'Name{str(row+1)}'] = st.text_input(f'Name {row+1}', key=f'input_col1{row}')\n",
        "            with grid[1]:\n",
        "                st.session_state[f'Content{str(row+1)}'] = st.selectbox(f'Content {row+1}', (\"Personal\", \"Career\", \"Business\"), index=None, placeholder='Please select topic', key=f'input_col2{row}')\n",
        "            with grid[2]:\n",
        "                st.session_state[f'Style{str(row+1)}'] = st.selectbox(f'Style {row+1}', (\"Formal\", \"Inspirational\", \"Funny\"), index=None, placeholder='Please select style', key=f'input_col3{row}')\n",
        "            return\n",
        "\n",
        "        # Loop to create rows of input widgets\n",
        "        for r in range(num_rows):\n",
        "            add_row(r)\n",
        "\n",
        "        generated_rows = [f'row {r+1}' for r in range(num_rows)]\n",
        "\n",
        "    # Display the message indicating for which rows greetings are generated\n",
        "\n",
        "    generate_button = st.button('Generate Greetings', key='generate_button', disabled=st.session_state.running)\n",
        "\n",
        "    if generate_button:\n",
        "        with st.spinner('generating greetings...'):\n",
        "            time.sleep(3)\n",
        "\n",
        "            # generate greetings for selected rows\n",
        "            for row in generated_rows:\n",
        "                output_key = f'output_col1{int(row.split()[1])-1}'\n",
        "                # replace the following line with your actual greeting generation logic\n",
        "                #print(\"hello for \" + str(row))\n",
        "                #output_value = \"hello for \" + str(row) + st.session_state[f'Name{int(row.split()[1])}'] + \",\" + st.session_state[f'Company{int(row.split()[1])}']\n",
        "                output_value = generate(st.session_state[f'Name{int(row.split()[1])}'], st.session_state[f'Content{int(row.split()[1])}'], st.session_state[f'Style{int(row.split()[1])}'])\n",
        "                if \"[Your Name]\" in output_value:\n",
        "                    output_value = output_value.replace(\"[Your Name]\", \"Sean\")\n",
        "                st.session_state[f'Greetings_out{int(row.split()[1])}'] = str(output_value)\n",
        "                st.markdown(f'Greeting {int(row.split()[1])}')\n",
        "                st.code(st.session_state[f'Greetings_out{int(row.split()[1])}'])\n",
        "                greetings.append({f'Greetings_out{int(row.split()[1])}': output_value})\n",
        "                #print(output_value)\n",
        "\n",
        "\n",
        "            print(greetings)\n",
        "            #print(\"greeting is \"+ st.session_state['Greetings_out1'])\n",
        "            # pass greetings to image and get e-cards back as encoded strings\n",
        "            processed_images_data = process_images_and_serialize(greetings)\n",
        "            print(len(processed_images_data))\n",
        "            for enc in processed_images_data:\n",
        "                for key, value in enc.items():\n",
        "                    if key.startswith('base64_encoded_image1_greeting') and key[30:]:\n",
        "                        print(key)\n",
        "                        j = key[30:]\n",
        "                        st.session_state[f'Greetings{j}_image1'] = value\n",
        "                    if key.startswith('base64_encoded_image2_greeting') and key[30:]:\n",
        "                        j = key[30:]\n",
        "                        st.session_state[f'Greetings{j}_image2'] = value\n",
        "\n",
        "            #print(\"image is \"+ st.session_state['Greetings1_image2'])\n",
        "\n",
        "            # display the message indicating for which rows greetings are generated\n",
        "        st.success(f'greetings generated for {\", \".join(map(str, generated_rows))}.')\n",
        "        time.sleep(0.5)\n",
        "\n",
        "with card:\n",
        "    st.markdown('Current Greetings')\n",
        "\n",
        "    #print(st.session_state)\n",
        "    print(\"greeting is \"+ st.session_state['Greetings_out1'])\n",
        "    for key, value in st.session_state.items():\n",
        "        if key.startswith('Greetings_out') and key[13:].isdigit():\n",
        "            print(\"loop2\")\n",
        "            i = int(key[13:])\n",
        "            with st.expander(f\"Greeting {i}\"):\n",
        "                card_container = st.empty()\n",
        "                card_grid = card_container.columns(3)\n",
        "                print(f\"{key}: {value}\")\n",
        "                with card_grid[0]:\n",
        "                    st.markdown('Generated Greeting')\n",
        "                    st.text(value)\n",
        "                with card_grid[1]:\n",
        "                    if st.session_state[f'Greetings{i}_image1'] != '':\n",
        "                        base64_encoded_image = st.session_state[f'Greetings{i}_image1']\n",
        "                        # Decode Base64 and recreate the image\n",
        "                        img_data = base64.b64decode(base64_encoded_image)\n",
        "                        image_stream = BytesIO(img_data)\n",
        "                        image = Image.open(image_stream)\n",
        "                        image.save(f\"/content/output_image1_greeting{i}.png\", format=\"PNG\")\n",
        "                        st.image(f\"/content/output_image1_greeting{i}.png\")\n",
        "                    else:\n",
        "                        st.text(\"card 1 will be here\")\n",
        "\n",
        "                with card_grid[2]:\n",
        "                    if st.session_state[f'Greetings{i}_image2'] != '':\n",
        "                        base64_encoded_image = st.session_state[f'Greetings{i}_image2']\n",
        "                        # Decode Base64 and recreate the image\n",
        "                        img_data = base64.b64decode(base64_encoded_image)\n",
        "                        image_stream = BytesIO(img_data)\n",
        "                        image = Image.open(image_stream)\n",
        "                        image.save(f\"/content/output_image2_greeting{i}.png\", format=\"PNG\")\n",
        "                        st.image(f\"/content/output_image2_greeting{i}.png\")\n",
        "                    else:\n",
        "                        st.text(\"card 2 will be here\")"
      ]
    },
    {
      "cell_type": "code",
      "execution_count": null,
      "metadata": {
        "id": "I4O5g51KSDDv"
      },
      "outputs": [],
      "source": [
        "%%writefile api.py\n",
        "import json\n",
        "import requests\n",
        "\n",
        "# NOTE: ollama must be running for this to work, start the ollama app or run `ollama serve`\n",
        "model = 'test' # TODO: update this for whatever model you wish to use\n",
        "\n",
        "def generate(name, content, style):\n",
        "    generated_response = \"\"\n",
        "    if content == \"Business\":\n",
        "        prompt = f'''I want to wish {name} a happy Lunar New Year. Please write a greeting to wish him the best for his business this year. The year is already 2024. It is the year of the dragon too. Only a paragraph of 2 sentences is required. Start with \"Dear\". Please use a {style} style for the greeting.'''\n",
        "    if content == \"Career\":\n",
        "        prompt = f'''I want to wish {name} a happy Lunar New Year. Please write a greeting to wish him the best for his career this year. The year is already 2024. It is the year of the dragon too. Only a paragraph of 2 sentences is required. Start with \"Dear\". Please use a {style} style for the greeting.'''\n",
        "    if content == \"Personal\":\n",
        "        prompt = f'''I want to wish {name} a happy Lunar New Year. Please write a greeting to wish him the best for his family life and personal relationships this year. The year is already 2024. It is the year of the dragon too. Only a paragraph of 2 sentences is required. Start with \"Dear\". Please use a {style} style for the greeting.'''\n",
        "\n",
        "    print(prompt)\n",
        "\n",
        "    context = []\n",
        "    r = requests.post('http://localhost:11434/api/generate',\n",
        "                      json={\n",
        "                          'model': model,\n",
        "                          'prompt': prompt,\n",
        "                          'context': context,\n",
        "                      },\n",
        "                      stream=True)\n",
        "    r.raise_for_status()\n",
        "\n",
        "    for line in r.iter_lines():\n",
        "        body = json.loads(line)\n",
        "        response_part = body.get('response', '')\n",
        "        generated_response += response_part\n",
        "        # the response streams one token at a time, print that as we receive it\n",
        "        print(response_part, end='', flush=True)\n",
        "\n",
        "        if 'error' in body:\n",
        "            raise Exception(body['error'])\n",
        "\n",
        "        if body.get('done', False):\n",
        "            context = body['context']\n",
        "\n",
        "    if \"Dear\" in generated_response:\n",
        "        start_index = generated_response.find(\"Dear\")\n",
        "        generated_response = generated_response[start_index:]\n",
        "    else:\n",
        "        generated_response = \"Please generate greeting again\"\n",
        "    return generated_response"
      ]
    },
    {
      "cell_type": "code",
      "execution_count": null,
      "metadata": {
        "id": "nORT2odlSLFP"
      },
      "outputs": [],
      "source": [
        "%%writefile text2img.py\n",
        "import cv2\n",
        "import numpy as np\n",
        "from PIL import Image, ImageDraw, ImageFont\n",
        "import base64\n",
        "import time\n",
        "\n",
        "def create_textbox(text, width, height, background_color, font_path, font_color):\n",
        "    img = Image.new('RGBA', (width, height), background_color)\n",
        "    draw = ImageDraw.Draw(img)\n",
        "    font_size = 30\n",
        "    font = ImageFont.truetype(font_path, font_size)\n",
        "\n",
        "    # Wrap text to fit within the specified width\n",
        "    max_text_width = width  # Adjust for padding\n",
        "    lines = []\n",
        "    line = ''\n",
        "    for word in text.split():\n",
        "        if draw.textsize(line + word, font=font)[0] < max_text_width:\n",
        "            line += word + ' '\n",
        "        else:\n",
        "            lines.append(line)\n",
        "            line = word + ' '\n",
        "    lines.append(line)\n",
        "\n",
        "    # Adjust font size if needed to fit the text within the height\n",
        "    while sum(draw.textsize(line, font=font)[1] for line in lines) > height:\n",
        "        font_size -= 1\n",
        "        font = ImageFont.truetype(font_path, font_size)\n",
        "\n",
        "    # Draw wrapped text on the image\n",
        "    y = (height - sum(draw.textsize(line, font=font)[1] for line in lines)) // 2\n",
        "    for line in lines:\n",
        "        text_width, text_height = draw.textsize(line, font=font)\n",
        "        x = (width - text_width) // 2\n",
        "        draw.text((x, y), line, fill=font_color, font=font)\n",
        "        y += text_height\n",
        "\n",
        "    return img\n",
        "\n",
        "def create_overlay(width, height, background_color):\n",
        "    img = Image.new('RGBA', (width, height), background_color)\n",
        "    draw = ImageDraw.Draw(img)\n",
        "    rectangle_coords = (0, 0, width, height)\n",
        "    draw.rectangle(rectangle_coords, outline=\"white\", fill=background_color)\n",
        "    return img\n",
        "\n",
        "def process_image(input_image, output_image, font_path, greetings, background_color, font_color):\n",
        "    # Load the image\n",
        "    image = cv2.imread(input_image)\n",
        "    original_image = image.copy()\n",
        "\n",
        "    # Convert the image to HSV color space\n",
        "    hsv = cv2.cvtColor(image, cv2.COLOR_BGR2HSV)\n",
        "\n",
        "    # Define the lower and upper bounds for the blue color in HSV\n",
        "    lower_blue = np.array([100, 50, 50])\n",
        "    upper_blue = np.array([130, 255, 255])\n",
        "\n",
        "    # Threshold the image to get a binary mask of the blue regions\n",
        "    mask = cv2.inRange(hsv, lower_blue, upper_blue)\n",
        "\n",
        "    # Find contours in the grayscale image\n",
        "    contours, _ = cv2.findContours(mask, cv2.RETR_EXTERNAL, cv2.CHAIN_APPROX_SIMPLE)\n",
        "\n",
        "    # Loop through the contours\n",
        "    for contour in contours:\n",
        "        # Approximate the contour to determine shape\n",
        "        perimeter = cv2.arcLength(contour, True)\n",
        "        approx = cv2.approxPolyDP(contour, 0.04 * perimeter, True)\n",
        "\n",
        "        # If the shape has 4 vertices, it's a rectangle\n",
        "        if len(approx) == 4:\n",
        "            # Get bounding box coordinates for the rectangle\n",
        "            x, y, w, h = cv2.boundingRect(approx)\n",
        "\n",
        "            # Create a borderless textbox with greetings\n",
        "            textbox = create_textbox(greetings, w+20, h+10, background_color, font_path, font_color)\n",
        "\n",
        "            # Convert PIL image to OpenCV format\n",
        "            textbox_cv = cv2.cvtColor(np.array(textbox), cv2.COLOR_RGBA2BGR)\n",
        "\n",
        "            # Replace the rectangle with the textbox\n",
        "            original_image[y-2:y-2+h+10, x-2:x-2+w+20] = textbox_cv\n",
        "\n",
        "    # Save the modified image\n",
        "    cv2.imwrite(output_image, original_image)\n",
        "    print(f\"Image with custom text overlay saved as '{output_image}'\")\n",
        "\n",
        "def process_images_and_serialize(greetings):\n",
        "    processed_images_data = []\n",
        "\n",
        "\n",
        "    for i in range((len(greetings))):\n",
        "        # Image 1\n",
        "        process_image('/content/image1.png', f'/content/image1_edit_greeting{i+1}.png', '/content/Gotham-Black.ttf', greetings[i][f'Greetings_out{i+1}'], '#8B0000', '#F2C96C')\n",
        "        img1 = cv2.imread(f'image1_edit_greeting{i+1}.png')\n",
        "        _, img1_encoded = cv2.imencode('.png', img1)\n",
        "        img1_base64 = base64.b64encode(img1_encoded.tobytes()).decode('utf-8')\n",
        "        processed_images_data.append({\n",
        "            f'base64_encoded_image1_greeting{i+1}': img1_base64\n",
        "        })\n",
        "\n",
        "        # Image 2\n",
        "        process_image('/content/image2.png', f'/content/image2_edit_greeting{i+1}.png', '/content/Regular-Brush.ttf', greetings[i][f'Greetings_out{i+1}'], '#790606', '#F2C96C')\n",
        "        img2 = cv2.imread(f'image2_edit_greeting{i+1}.png')\n",
        "        _, img2_encoded = cv2.imencode('.png', img2)\n",
        "        img2_base64 = base64.b64encode(img2_encoded.tobytes()).decode('utf-8')\n",
        "        processed_images_data.append({\n",
        "            f'base64_encoded_image2_greeting{i+1}': img2_base64\n",
        "        })\n",
        "    return processed_images_data"
      ]
    },
    {
      "cell_type": "markdown",
      "source": [
        "## Run streamlit"
      ],
      "metadata": {
        "id": "Z4DOGbMFqUq7"
      }
    },
    {
      "cell_type": "code",
      "execution_count": 15,
      "metadata": {
        "id": "_pHCd4IP8QjP"
      },
      "outputs": [],
      "source": [
        "!streamlit run interface.py &>/content/logs.txt &"
      ]
    }
  ],
  "metadata": {
    "accelerator": "GPU",
    "colab": {
      "provenance": []
    },
    "kernelspec": {
      "display_name": "Python 3",
      "name": "python3"
    },
    "language_info": {
      "name": "python"
    }
  },
  "nbformat": 4,
  "nbformat_minor": 0
}